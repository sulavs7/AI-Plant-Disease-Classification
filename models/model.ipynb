{
  "cells": [
    {
      "cell_type": "code",
      "execution_count": 1,
      "id": "eb8418af",
      "metadata": {
        "id": "eb8418af"
      },
      "outputs": [],
      "source": [
        "import os\n",
        "import torch\n",
        "import torch.nn as nn\n",
        "from torchvision import datasets,transforms,models\n",
        "from torch.utils.data import DataLoader\n",
        "import torch.optim as optim\n",
        "from tqdm import tqdm"
      ]
    },
    {
      "cell_type": "code",
      "source": [
        "from google.colab import drive\n",
        "drive.mount('/content/drive')"
      ],
      "metadata": {
        "id": "s27T9hv4oKcr",
        "outputId": "0b02aa73-1af3-47a1-e4ac-7a2f7aab295d",
        "colab": {
          "base_uri": "https://localhost:8080/"
        }
      },
      "id": "s27T9hv4oKcr",
      "execution_count": 2,
      "outputs": [
        {
          "output_type": "stream",
          "name": "stdout",
          "text": [
            "Mounted at /content/drive\n"
          ]
        }
      ]
    },
    {
      "cell_type": "markdown",
      "id": "9bd2cba7",
      "metadata": {
        "id": "9bd2cba7"
      },
      "source": [
        "Device Setup"
      ]
    },
    {
      "cell_type": "code",
      "execution_count": 3,
      "id": "c2b23022",
      "metadata": {
        "id": "c2b23022",
        "outputId": "066432a9-6da5-4bb9-d13b-c6bb022723d1",
        "colab": {
          "base_uri": "https://localhost:8080/"
        }
      },
      "outputs": [
        {
          "output_type": "stream",
          "name": "stdout",
          "text": [
            "Using device: cuda\n"
          ]
        }
      ],
      "source": [
        "device = torch.device(\"cuda\" if torch.cuda.is_available() else \"cpu\")\n",
        "print(\"Using device:\", device)"
      ]
    },
    {
      "cell_type": "code",
      "execution_count": 4,
      "id": "21cb171d",
      "metadata": {
        "id": "21cb171d"
      },
      "outputs": [],
      "source": [
        "train_dir = '/content/drive/MyDrive/plant_village_updated/plant_village_updated/train'\n",
        "test_dir = '/content/drive/MyDrive/plant_village_updated/plant_village_updated/test'\n",
        "val_dir = '/content/drive/MyDrive/plant_village_updated/plant_village_updated/val'"
      ]
    },
    {
      "cell_type": "markdown",
      "id": "9dd2218a",
      "metadata": {
        "id": "9dd2218a"
      },
      "source": [
        "Transforming the data"
      ]
    },
    {
      "cell_type": "code",
      "execution_count": 5,
      "id": "8165f04e",
      "metadata": {
        "id": "8165f04e"
      },
      "outputs": [],
      "source": [
        "transform = transforms.Compose([\n",
        "    transforms.Resize((224,224)),\n",
        "    transforms.RandomHorizontalFlip(),\n",
        "    transforms.ToTensor(),\n",
        "    transforms.Normalize(mean=[0.485, 0.456, 0.406], std=[0.229, 0.224, 0.225])\n",
        "])\n",
        "\n"
      ]
    },
    {
      "cell_type": "markdown",
      "id": "a4b727e5",
      "metadata": {
        "id": "a4b727e5"
      },
      "source": [
        "Loading dataset"
      ]
    },
    {
      "cell_type": "code",
      "execution_count": 6,
      "id": "c1a88da9",
      "metadata": {
        "id": "c1a88da9"
      },
      "outputs": [],
      "source": [
        "train_dataset = datasets.ImageFolder(train_dir,transform=transform)\n",
        "val_dataset = datasets.ImageFolder(val_dir,transform=transform)\n",
        "test_dataset = datasets.ImageFolder(test_dir,transform=transform)\n"
      ]
    },
    {
      "cell_type": "markdown",
      "id": "de5f4cee",
      "metadata": {
        "id": "de5f4cee"
      },
      "source": [
        "Hyperparameters"
      ]
    },
    {
      "cell_type": "code",
      "execution_count": 8,
      "id": "1d20dcc3",
      "metadata": {
        "id": "1d20dcc3"
      },
      "outputs": [],
      "source": [
        "batch_size = 32\n",
        "lr=1e-4"
      ]
    },
    {
      "cell_type": "markdown",
      "id": "70e76470",
      "metadata": {
        "id": "70e76470"
      },
      "source": [
        "Making Dataloader"
      ]
    },
    {
      "cell_type": "code",
      "execution_count": 9,
      "id": "e4f5cfd0",
      "metadata": {
        "id": "e4f5cfd0",
        "outputId": "d46b32d6-91de-41f8-9178-58c734c583ae",
        "colab": {
          "base_uri": "https://localhost:8080/"
        }
      },
      "outputs": [
        {
          "output_type": "stream",
          "name": "stderr",
          "text": [
            "/usr/local/lib/python3.11/dist-packages/torch/utils/data/dataloader.py:624: UserWarning: This DataLoader will create 4 worker processes in total. Our suggested max number of worker in current system is 2, which is smaller than what this DataLoader is going to create. Please be aware that excessive worker creation might get DataLoader running slow or even freeze, lower the worker number to avoid potential slowness/freeze if necessary.\n",
            "  warnings.warn(\n"
          ]
        }
      ],
      "source": [
        "train_dataloader = DataLoader(\n",
        "    train_dataset,\n",
        "    batch_size=batch_size,\n",
        "    shuffle=True,\n",
        "    num_workers=4,\n",
        "    pin_memory=True\n",
        ")\n",
        "\n",
        "val_dataloader = DataLoader(\n",
        "    val_dataset,\n",
        "    batch_size=batch_size,\n",
        "    shuffle=False,\n",
        "    num_workers=4,\n",
        "    pin_memory=True\n",
        ")\n",
        "\n",
        "test_dataloader = DataLoader(\n",
        "    test_dataset,\n",
        "    batch_size=batch_size,\n",
        "    shuffle=False,\n",
        "    num_workers=4,\n",
        "    pin_memory=True,\n",
        ")"
      ]
    },
    {
      "cell_type": "code",
      "execution_count": 10,
      "id": "a21f0d06",
      "metadata": {
        "id": "a21f0d06",
        "outputId": "4285ad5e-eff9-4ede-b590-0584e04b59c5",
        "colab": {
          "base_uri": "https://localhost:8080/"
        }
      },
      "outputs": [
        {
          "output_type": "stream",
          "name": "stdout",
          "text": [
            "torch.Size([32, 3, 224, 224])\n",
            "tensor([18, 19, 13, 10,  9, 25,  7,  5,  8,  0, 24, 12, 23,  1, 26, 24, 26,  2,\n",
            "        13, 25,  5, 25, 16,  2,  1, 12,  9, 25, 21, 16, 14, 12])\n"
          ]
        }
      ],
      "source": [
        "for train_images,_ in train_dataloader:\n",
        "    print(train_images.shape)\n",
        "    print(_)\n",
        "    break"
      ]
    },
    {
      "cell_type": "markdown",
      "id": "3eef37fc",
      "metadata": {
        "id": "3eef37fc"
      },
      "source": [
        "Model Initialization"
      ]
    },
    {
      "cell_type": "code",
      "execution_count": 11,
      "id": "1325dff0",
      "metadata": {
        "id": "1325dff0",
        "outputId": "e8388d48-cbba-45e6-899f-22485dceb2f0",
        "colab": {
          "base_uri": "https://localhost:8080/"
        }
      },
      "outputs": [
        {
          "output_type": "stream",
          "name": "stderr",
          "text": [
            "/usr/local/lib/python3.11/dist-packages/torchvision/models/_utils.py:208: UserWarning: The parameter 'pretrained' is deprecated since 0.13 and may be removed in the future, please use 'weights' instead.\n",
            "  warnings.warn(\n",
            "/usr/local/lib/python3.11/dist-packages/torchvision/models/_utils.py:223: UserWarning: Arguments other than a weight enum or `None` for 'weights' are deprecated since 0.13 and may be removed in the future. The current behavior is equivalent to passing `weights=ResNet50_Weights.IMAGENET1K_V1`. You can also use `weights=ResNet50_Weights.DEFAULT` to get the most up-to-date weights.\n",
            "  warnings.warn(msg)\n",
            "Downloading: \"https://download.pytorch.org/models/resnet50-0676ba61.pth\" to /root/.cache/torch/hub/checkpoints/resnet50-0676ba61.pth\n",
            "100%|██████████| 97.8M/97.8M [00:00<00:00, 200MB/s]\n"
          ]
        }
      ],
      "source": [
        "model = models.resnet50(pretrained=True)\n",
        "num_classes = len(train_dataset.classes)\n",
        "model.fc = nn.Linear(model.fc.in_features,num_classes) #to make the model to have the same no of class as i want"
      ]
    },
    {
      "cell_type": "markdown",
      "id": "81492b95",
      "metadata": {
        "id": "81492b95"
      },
      "source": [
        "Training Pipeline"
      ]
    },
    {
      "cell_type": "code",
      "execution_count": 12,
      "id": "7b4a8a45",
      "metadata": {
        "id": "7b4a8a45"
      },
      "outputs": [],
      "source": [
        "n_epoch = 10\n",
        "criterion = nn.CrossEntropyLoss()\n",
        "model = model.to(device)\n",
        "optimizer = optim.Adam(model.parameters(), lr=1e-4)\n",
        "scheduler = optim.lr_scheduler.StepLR(optimizer, step_size=7, gamma=0.1)"
      ]
    },
    {
      "cell_type": "code",
      "execution_count": 13,
      "id": "80327bd8",
      "metadata": {
        "id": "80327bd8"
      },
      "outputs": [],
      "source": [
        "checkpoint_dir = './checkpoints'\n",
        "os.makedirs(checkpoint_dir, exist_ok=True)\n"
      ]
    },
    {
      "cell_type": "code",
      "execution_count": 14,
      "id": "0fcc70d3",
      "metadata": {
        "id": "0fcc70d3"
      },
      "outputs": [],
      "source": [
        "def save_checkpoint(state, filename):\n",
        "    torch.save(state, filename)\n",
        "\n",
        "def load_checkpoint(filepath, model, optimizer):\n",
        "    checkpoint = torch.load(filepath)\n",
        "    model.load_state_dict(checkpoint['model_state_dict'])\n",
        "    optimizer.load_state_dict(checkpoint['optimizer_state_dict'])\n",
        "    start_epoch = checkpoint['epoch'] + 1\n",
        "    print(f\"Checkpoint loaded: epoch {checkpoint['epoch']}\")\n",
        "    return start_epoch\n",
        "\n",
        "# Try to load checkpoint if exists (set your checkpoint path)\n",
        "start_epoch = 1\n",
        "checkpoint_path = os.path.join(checkpoint_dir, 'best_model.pth')\n",
        "if os.path.isfile(checkpoint_path):\n",
        "    start_epoch = load_checkpoint(checkpoint_path, model, optimizer)"
      ]
    },
    {
      "cell_type": "code",
      "execution_count": 15,
      "id": "40535205",
      "metadata": {
        "id": "40535205"
      },
      "outputs": [],
      "source": [
        "def train_one_step(model, criterion, optimizer, images, labels):\n",
        "    model.train()\n",
        "    optimizer.zero_grad()\n",
        "\n",
        "    outputs = model(images)\n",
        "    loss = criterion(outputs, labels)\n",
        "\n",
        "    loss.backward()\n",
        "    optimizer.step()\n",
        "\n",
        "    _, preds = torch.max(outputs, 1)\n",
        "    correct = (preds == labels).sum().item()\n",
        "    return loss.item(), correct\n",
        "\n",
        "def val_one_step(model, criterion, images, labels):\n",
        "    model.eval()\n",
        "    with torch.no_grad():\n",
        "        outputs = model(images)\n",
        "        loss = criterion(outputs, labels)\n",
        "\n",
        "        _, preds = torch.max(outputs, 1)\n",
        "        correct = (preds == labels).sum().item()\n",
        "    return loss.item(), correct"
      ]
    },
    {
      "cell_type": "code",
      "execution_count": 16,
      "id": "e2230cce",
      "metadata": {
        "id": "e2230cce",
        "outputId": "4b35f345-0413-4f82-a332-153200403549",
        "colab": {
          "base_uri": "https://localhost:8080/"
        }
      },
      "outputs": [
        {
          "output_type": "stream",
          "name": "stderr",
          "text": [
            "Training Epoch 1/10: 100%|██████████| 1678/1678 [2:16:45<00:00,  4.89s/it]\n",
            "Validation Epoch 1/10: 100%|██████████| 378/378 [29:33<00:00,  4.69s/it]\n"
          ]
        },
        {
          "output_type": "stream",
          "name": "stdout",
          "text": [
            "Epoch 1/10 | Train Loss: 0.1390 | Train Acc: 0.9645 | Val Loss: 0.0388 | Val Acc: 0.9891\n",
            "✅ Best model updated at epoch 1 with Val Acc: 0.9891\n"
          ]
        },
        {
          "output_type": "stream",
          "name": "stderr",
          "text": [
            "Training Epoch 2/10: 100%|██████████| 1678/1678 [09:03<00:00,  3.09it/s]\n",
            "Validation Epoch 2/10: 100%|██████████| 378/378 [01:02<00:00,  6.09it/s]\n"
          ]
        },
        {
          "output_type": "stream",
          "name": "stdout",
          "text": [
            "Epoch 2/10 | Train Loss: 0.0377 | Train Acc: 0.9888 | Val Loss: 0.0291 | Val Acc: 0.9906\n",
            "✅ Best model updated at epoch 2 with Val Acc: 0.9906\n"
          ]
        },
        {
          "output_type": "stream",
          "name": "stderr",
          "text": [
            "Training Epoch 3/10: 100%|██████████| 1678/1678 [09:01<00:00,  3.10it/s]\n",
            "Validation Epoch 3/10: 100%|██████████| 378/378 [01:05<00:00,  5.73it/s]\n"
          ]
        },
        {
          "output_type": "stream",
          "name": "stdout",
          "text": [
            "Epoch 3/10 | Train Loss: 0.0291 | Train Acc: 0.9915 | Val Loss: 0.0187 | Val Acc: 0.9948\n",
            "✅ Best model updated at epoch 3 with Val Acc: 0.9948\n"
          ]
        },
        {
          "output_type": "stream",
          "name": "stderr",
          "text": [
            "Training Epoch 4/10: 100%|██████████| 1678/1678 [09:02<00:00,  3.09it/s]\n",
            "Validation Epoch 4/10: 100%|██████████| 378/378 [01:03<00:00,  5.95it/s]\n"
          ]
        },
        {
          "output_type": "stream",
          "name": "stdout",
          "text": [
            "Epoch 4/10 | Train Loss: 0.0246 | Train Acc: 0.9926 | Val Loss: 0.0172 | Val Acc: 0.9946\n",
            "No improvement for 1 epochs.\n"
          ]
        },
        {
          "output_type": "stream",
          "name": "stderr",
          "text": [
            "Training Epoch 5/10: 100%|██████████| 1678/1678 [09:03<00:00,  3.09it/s]\n",
            "Validation Epoch 5/10: 100%|██████████| 378/378 [01:04<00:00,  5.84it/s]\n"
          ]
        },
        {
          "output_type": "stream",
          "name": "stdout",
          "text": [
            "Epoch 5/10 | Train Loss: 0.0197 | Train Acc: 0.9939 | Val Loss: 0.0220 | Val Acc: 0.9930\n",
            "No improvement for 2 epochs.\n"
          ]
        },
        {
          "output_type": "stream",
          "name": "stderr",
          "text": [
            "Training Epoch 6/10: 100%|██████████| 1678/1678 [09:02<00:00,  3.09it/s]\n",
            "Validation Epoch 6/10: 100%|██████████| 378/378 [01:05<00:00,  5.77it/s]\n"
          ]
        },
        {
          "output_type": "stream",
          "name": "stdout",
          "text": [
            "Epoch 6/10 | Train Loss: 0.0165 | Train Acc: 0.9945 | Val Loss: 0.0131 | Val Acc: 0.9949\n",
            "✅ Best model updated at epoch 6 with Val Acc: 0.9949\n"
          ]
        },
        {
          "output_type": "stream",
          "name": "stderr",
          "text": [
            "Training Epoch 7/10: 100%|██████████| 1678/1678 [09:03<00:00,  3.09it/s]\n",
            "Validation Epoch 7/10: 100%|██████████| 378/378 [01:03<00:00,  5.91it/s]\n"
          ]
        },
        {
          "output_type": "stream",
          "name": "stdout",
          "text": [
            "Epoch 7/10 | Train Loss: 0.0161 | Train Acc: 0.9952 | Val Loss: 0.0213 | Val Acc: 0.9949\n",
            "No improvement for 1 epochs.\n"
          ]
        },
        {
          "output_type": "stream",
          "name": "stderr",
          "text": [
            "Training Epoch 8/10: 100%|██████████| 1678/1678 [09:01<00:00,  3.10it/s]\n",
            "Validation Epoch 8/10: 100%|██████████| 378/378 [01:01<00:00,  6.12it/s]\n"
          ]
        },
        {
          "output_type": "stream",
          "name": "stdout",
          "text": [
            "Epoch 8/10 | Train Loss: 0.0042 | Train Acc: 0.9990 | Val Loss: 0.0043 | Val Acc: 0.9988\n",
            "✅ Best model updated at epoch 8 with Val Acc: 0.9988\n"
          ]
        },
        {
          "output_type": "stream",
          "name": "stderr",
          "text": [
            "Training Epoch 9/10: 100%|██████████| 1678/1678 [09:01<00:00,  3.10it/s]\n",
            "Validation Epoch 9/10: 100%|██████████| 378/378 [01:00<00:00,  6.22it/s]\n"
          ]
        },
        {
          "output_type": "stream",
          "name": "stdout",
          "text": [
            "Epoch 9/10 | Train Loss: 0.0018 | Train Acc: 0.9996 | Val Loss: 0.0040 | Val Acc: 0.9988\n",
            "No improvement for 1 epochs.\n"
          ]
        },
        {
          "output_type": "stream",
          "name": "stderr",
          "text": [
            "Training Epoch 10/10: 100%|██████████| 1678/1678 [09:01<00:00,  3.10it/s]\n",
            "Validation Epoch 10/10: 100%|██████████| 378/378 [01:01<00:00,  6.19it/s]\n"
          ]
        },
        {
          "output_type": "stream",
          "name": "stdout",
          "text": [
            "Epoch 10/10 | Train Loss: 0.0011 | Train Acc: 0.9998 | Val Loss: 0.0048 | Val Acc: 0.9988\n",
            "No improvement for 2 epochs.\n"
          ]
        }
      ],
      "source": [
        "import os\n",
        "import torch\n",
        "from tqdm import tqdm\n",
        "import matplotlib.pyplot as plt\n",
        "\n",
        "# Paths\n",
        "checkpoint_dir = \"/content/checkpoints\"\n",
        "os.makedirs(checkpoint_dir, exist_ok=True)\n",
        "best_model_path = os.path.join(checkpoint_dir, 'best_model.pth')\n",
        "last_model_path = os.path.join(checkpoint_dir, 'last_model.pth')\n",
        "\n",
        "# Resume flag\n",
        "resume_training = True\n",
        "\n",
        "# Initialize trackers\n",
        "train_loss, val_loss, train_acc, val_acc = [], [], [], []\n",
        "best_val_acc = 0\n",
        "epochs_no_improve = 0\n",
        "patience = 5\n",
        "start_epoch = 1\n",
        "\n",
        "# Resume from checkpoint if available\n",
        "if resume_training and os.path.exists(last_model_path):\n",
        "    checkpoint = torch.load(last_model_path)\n",
        "    model.load_state_dict(checkpoint['model_state_dict'])\n",
        "    optimizer.load_state_dict(checkpoint['optimizer_state_dict'])\n",
        "    scheduler.load_state_dict(checkpoint['scheduler_state_dict'])\n",
        "    start_epoch = checkpoint['epoch'] + 1\n",
        "    train_loss = checkpoint['train_loss_hist']\n",
        "    val_loss = checkpoint['val_loss_hist']\n",
        "    train_acc = checkpoint['train_acc_hist']\n",
        "    val_acc = checkpoint['val_acc_hist']\n",
        "    best_val_acc = checkpoint['best_val_acc']\n",
        "    print(f\"Resumed training from epoch {start_epoch}\")\n",
        "\n",
        "# Training loop\n",
        "for epoch in range(start_epoch, n_epoch + 1):\n",
        "    model.train()\n",
        "    train_epoch_loss, train_correct, total_train = 0, 0, 0\n",
        "\n",
        "    for images, labels in tqdm(train_dataloader, desc=f'Training Epoch {epoch}/{n_epoch}'):\n",
        "        images, labels = images.to(device), labels.to(device)\n",
        "        loss, correct = train_one_step(model, criterion, optimizer, images, labels)\n",
        "        batch_size = images.size(0)\n",
        "\n",
        "        train_epoch_loss += loss * batch_size\n",
        "        train_correct += correct\n",
        "        total_train += batch_size\n",
        "\n",
        "    epoch_train_loss = train_epoch_loss / total_train\n",
        "    epoch_train_acc = train_correct / total_train\n",
        "\n",
        "    # Validation\n",
        "    model.eval()\n",
        "    val_epoch_loss, val_correct, total_val = 0, 0, 0\n",
        "\n",
        "    for images, labels in tqdm(val_dataloader, desc=f'Validation Epoch {epoch}/{n_epoch}'):\n",
        "        images, labels = images.to(device), labels.to(device)\n",
        "        loss, correct = val_one_step(model, criterion, images, labels)\n",
        "        batch_size = images.size(0)\n",
        "\n",
        "        val_epoch_loss += loss * batch_size\n",
        "        val_correct += correct\n",
        "        total_val += batch_size\n",
        "\n",
        "    epoch_val_loss = val_epoch_loss / total_val\n",
        "    epoch_val_acc = val_correct / total_val\n",
        "\n",
        "    # Update scheduler\n",
        "    scheduler.step()\n",
        "\n",
        "    # Log results\n",
        "    print(f\"Epoch {epoch}/{n_epoch} | Train Loss: {epoch_train_loss:.4f} | Train Acc: {epoch_train_acc:.4f} | Val Loss: {epoch_val_loss:.4f} | Val Acc: {epoch_val_acc:.4f}\")\n",
        "\n",
        "    # Save history\n",
        "    train_loss.append(epoch_train_loss)\n",
        "    val_loss.append(epoch_val_loss)\n",
        "    train_acc.append(epoch_train_acc)\n",
        "    val_acc.append(epoch_val_acc)\n",
        "\n",
        "    # Save last checkpoint\n",
        "    torch.save({\n",
        "        'epoch': epoch,\n",
        "        'model_state_dict': model.state_dict(),\n",
        "        'optimizer_state_dict': optimizer.state_dict(),\n",
        "        'scheduler_state_dict': scheduler.state_dict(),\n",
        "        'train_loss_hist': train_loss,\n",
        "        'val_loss_hist': val_loss,\n",
        "        'train_acc_hist': train_acc,\n",
        "        'val_acc_hist': val_acc,\n",
        "        'best_val_acc': best_val_acc\n",
        "    }, last_model_path)\n",
        "\n",
        "    # Save best checkpoint\n",
        "    if epoch_val_acc > best_val_acc:\n",
        "        best_val_acc = epoch_val_acc\n",
        "        epochs_no_improve = 0\n",
        "        torch.save({\n",
        "            'epoch': epoch,\n",
        "            'model_state_dict': model.state_dict(),\n",
        "            'optimizer_state_dict': optimizer.state_dict(),\n",
        "            'scheduler_state_dict': scheduler.state_dict(),\n",
        "            'train_loss_hist': train_loss,\n",
        "            'val_loss_hist': val_loss,\n",
        "            'train_acc_hist': train_acc,\n",
        "            'val_acc_hist': val_acc,\n",
        "            'best_val_acc': best_val_acc\n",
        "        }, best_model_path)\n",
        "        print(f\"✅ Best model updated at epoch {epoch} with Val Acc: {best_val_acc:.4f}\")\n",
        "    else:\n",
        "        epochs_no_improve += 1\n",
        "        print(f\"No improvement for {epochs_no_improve} epochs.\")\n",
        "\n",
        "    # Early stopping\n",
        "    if epochs_no_improve >= patience:\n",
        "        print(\"⏹ Early stopping triggered.\")\n",
        "        break\n",
        "\n"
      ]
    },
    {
      "cell_type": "markdown",
      "id": "de2241ce",
      "metadata": {
        "id": "de2241ce"
      },
      "source": [
        "## Training Curve\n",
        "\n",
        "> Add blockquote\n",
        "\n"
      ]
    },
    {
      "cell_type": "code",
      "source": [
        "# After training, plot metrics\n",
        "plt.figure()\n",
        "plt.plot(train_acc, 'r.-', label='Train Accuracy')\n",
        "plt.plot(val_acc, 'g.-', label='Validation Accuracy')\n",
        "plt.xlabel(\"Epoch\")\n",
        "plt.ylabel(\"Accuracy\")\n",
        "plt.title(\"Accuracy per Epoch\")\n",
        "plt.legend()\n",
        "plt.show()\n",
        "\n",
        "plt.figure()\n",
        "plt.plot(train_loss, 'r.-', label='Train Loss')\n",
        "plt.plot(val_loss, 'g.-', label='Validation Loss')\n",
        "plt.xlabel(\"Epoch\")\n",
        "plt.ylabel(\"Loss\")\n",
        "plt.title(\"Loss per Epoch\")\n",
        "plt.legend()\n",
        "plt.show()\n"
      ],
      "metadata": {
        "id": "38oR1eu1oCCm",
        "outputId": "94e3b149-2db8-4bc6-e5df-365222c136d7",
        "colab": {
          "base_uri": "https://localhost:8080/",
          "height": 927
        }
      },
      "id": "38oR1eu1oCCm",
      "execution_count": 17,
      "outputs": [
        {
          "output_type": "display_data",
          "data": {
            "text/plain": [
              "<Figure size 640x480 with 1 Axes>"
            ],
            "image/png": "[encoded data removed]"
          },
          "metadata": {}
        },
        {
          "output_type": "display_data",
          "data": {
            "text/plain": [
              "<Figure size 640x480 with 1 Axes>"
            ],
            "image/png": "[encoded data removed]"
          },
          "metadata": {}
        }
      ]
    },
    {
      "cell_type": "markdown",
      "id": "4ce7070e",
      "metadata": {
        "id": "4ce7070e"
      },
      "source": [
        "## Evaluation\n"
      ]
    },
    {
      "cell_type": "code",
      "execution_count": 18,
      "id": "e8de58c9",
      "metadata": {
        "id": "e8de58c9",
        "outputId": "92fef33d-6c36-4913-91a3-04213d24c79d",
        "colab": {
          "base_uri": "https://localhost:8080/"
        }
      },
      "outputs": [
        {
          "output_type": "stream",
          "name": "stderr",
          "text": [
            "Evaluating: 100%|██████████| 43/43 [03:22<00:00,  4.70s/it]"
          ]
        },
        {
          "output_type": "stream",
          "name": "stdout",
          "text": [
            "Accuracy of model on test dataset:  0.9992614475627769\n"
          ]
        },
        {
          "output_type": "stream",
          "name": "stderr",
          "text": [
            "\n"
          ]
        }
      ],
      "source": [
        "import torch.nn.functional as F\n",
        "\n",
        "@torch.no_grad()\n",
        "def evaluate(model, test_dataloader):\n",
        "    model.eval()\n",
        "    total_correct = 0\n",
        "    total_samples = 0\n",
        "\n",
        "    for test_images, test_labels in tqdm(test_dataloader, desc=\"Evaluating\"):\n",
        "        test_images = test_images.to(device)\n",
        "        test_labels = test_labels.to(device)\n",
        "\n",
        "        outputs = model(test_images)  # shape: (batch_size, num_classes)\n",
        "        _, preds = torch.max(outputs, 1)  # predicted class indices\n",
        "        total_correct += (preds == test_labels).sum().item()\n",
        "        total_samples += test_labels.size(0)\n",
        "\n",
        "    accuracy = total_correct / total_samples\n",
        "    return accuracy\n",
        "\n",
        "print(\"Accuracy of model on test dataset: \", evaluate(model, test_dataloader))\n"
      ]
    }
  ],
  "metadata": {
    "kernelspec": {
      "display_name": "Python 3",
      "name": "python3"
    },
    "language_info": {
      "codemirror_mode": {
        "name": "ipython",
        "version": 3
      },
      "file_extension": ".py",
      "mimetype": "text/x-python",
      "name": "python",
      "nbconvert_exporter": "python",
      "pygments_lexer": "ipython3",
      "version": "3.13.3"
    },
    "colab": {
      "provenance": [],
      "gpuType": "T4"
    },
    "accelerator": "GPU"
  },
  "nbformat": 4,
  "nbformat_minor": 5
}